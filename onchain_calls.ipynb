{
 "cells": [
  {
   "cell_type": "markdown",
   "metadata": {},
   "source": [
    "# Seminar - Example of getting chain data\n",
    "Getting current state of Carmine Options AMM from StarkNet."
   ]
  },
  {
   "cell_type": "code",
   "execution_count": 41,
   "metadata": {},
   "outputs": [],
   "source": [
    "from dataclasses import dataclass\n",
    "import asyncio\n",
    "import time\n",
    "import datetime\n",
    "import os\n",
    "\n",
    "from starknet_py.net.full_node_client import FullNodeClient\n",
    "from starknet_py.hash.selector import get_selector_from_name\n",
    "from starknet_py.net.client_models import Call"
   ]
  },
  {
   "cell_type": "code",
   "execution_count": 4,
   "metadata": {},
   "outputs": [],
   "source": [
    "AMM_ADDRESS = 0x047472e6755afc57ada9550b6a3ac93129cc4b5f98f51c73e0644d129fd208d9 # Carmine Options Amm address\n",
    "\n",
    "CUBIT_SHIFT = 2**64\n",
    "\n",
    "# RPC setup\n",
    "RPC_URL = 'https://starknet-mainnet.public.blastapi.io'\n",
    "NET = FullNodeClient(RPC_URL)"
   ]
  },
  {
   "cell_type": "code",
   "execution_count": 6,
   "metadata": {},
   "outputs": [],
   "source": [
    "def felt_to_str(felt) -> str:\n",
    "    \"\"\"\n",
    "    Helper function that takes felt and creates string out of it.\n",
    "    \"\"\"\n",
    "    num_bytes = (felt.bit_length() + 7) // 8\n",
    "    bytes_ = felt.to_bytes(num_bytes, \"big\")\n",
    "    return bytes_.decode(\"utf-8\")"
   ]
  },
  {
   "cell_type": "code",
   "execution_count": 7,
   "metadata": {},
   "outputs": [],
   "source": [
    "async def function_call(client: FullNodeClient, address: int, selector: str, calldata: list[int | None]) -> list[int]:\n",
    "    \"\"\"\n",
    "    Wrapper for StarkNet chain calls. -> gets chain data\n",
    "    \"\"\"\n",
    "    call = Call(\n",
    "        to_addr=address,\n",
    "        selector=get_selector_from_name(selector),\n",
    "        calldata=calldata\n",
    "    )\n",
    "    res = await client.call_contract(call)\n",
    "    return res\n",
    "\n",
    "async def function_call_from_block(client: FullNodeClient, address: int, selector: str, calldata: list[int], block_num: int) -> list[int]:\n",
    "    \"\"\"\n",
    "    Wrapper for StarkNet chain calls for HISTORICAL data. -> gets HISTORICAL chain data\n",
    "    \"\"\"\n",
    "    call = Call(\n",
    "        to_addr=address,\n",
    "        selector=get_selector_from_name(selector),\n",
    "        calldata=calldata\n",
    "    )\n",
    "    res = await client.call_contract(call, block_number=block_num)\n",
    "    return res"
   ]
  },
  {
   "cell_type": "code",
   "execution_count": 8,
   "metadata": {},
   "outputs": [],
   "source": [
    "# Fetch list of lptokens\n",
    "lptokens = await function_call(NET, AMM_ADDRESS, 'get_all_lptoken_addresses', [])\n",
    "lptokens = lptokens[1:] # First element is length of the array "
   ]
  },
  {
   "cell_type": "code",
   "execution_count": 9,
   "metadata": {},
   "outputs": [],
   "source": [
    "@dataclass\n",
    "class Token:\n",
    "    \"\"\"\n",
    "    Class representing single Starknet token.\n",
    "    \"\"\"\n",
    "    decimals: int\n",
    "    symbol: str\n",
    "    address: int\n",
    "\n",
    "    @classmethod\n",
    "    async def from_address(cls, address: int, client: FullNodeClient) -> 'Token':\n",
    "        decimals = await function_call(client, address, 'decimals', [])\n",
    "        symbol = await function_call(client, address, 'symbol', [])\n",
    "\n",
    "        return Token(\n",
    "            decimals=decimals[0],\n",
    "            symbol= felt_to_str(symbol[0]),\n",
    "            address = address\n",
    "        )\n",
    "\n",
    "    def __repr__(self) -> str:\n",
    "        return f\"\"\"Token(\n",
    "    decimals={self.decimals},\n",
    "    symbol={self.symbol},\n",
    "    address={hex(self.address)}\n",
    ")\"\"\"\n",
    "\n",
    "\n",
    "@dataclass\n",
    "class PoolInfo:\n",
    "    \"\"\"\n",
    "    Class representing Carmine Options AMM pool info.\n",
    "\n",
    "    Footnote: ETH/USDC, ETH is the base token and USDC is the quote token.\n",
    "    \"\"\"\n",
    "    quote_token_address: int\n",
    "    base_token_address: int\n",
    "    option_type: int\n",
    "    address: int\n",
    "\n",
    "    @classmethod\n",
    "    async def from_address(cls, address: int, client: FullNodeClient) -> 'PoolInfo':\n",
    "        \"\"\"\n",
    "        Constructs Pool info from the address of the lptoken.\n",
    "        \"\"\"\n",
    "        res = await function_call(\n",
    "            client,\n",
    "            AMM_ADDRESS, \n",
    "            'get_pool_definition_from_lptoken_address', [address]\n",
    "        )\n",
    "        return PoolInfo(\n",
    "            quote_token_address=res[0],\n",
    "            base_token_address=res[1],\n",
    "            option_type=res[2],\n",
    "            address=address\n",
    "        )\n",
    "\n",
    "    def __repr__(self) -> str:\n",
    "        return f\"\"\"PoolInfo(\n",
    "    quote_token_address={hex(self.quote_token_address)},\n",
    "    base_token_address={hex(self.base_token_address)},\n",
    "    option_type={self.option_type},\n",
    "    address={hex(self.address)}\n",
    ")\"\"\"\n",
    "\n",
    "    "
   ]
  },
  {
   "cell_type": "code",
   "execution_count": 10,
   "metadata": {},
   "outputs": [],
   "source": [
    "tokens = [ Token.from_address(i, NET) for i in lptokens ]\n",
    "tokens = await asyncio.gather(*tokens)"
   ]
  },
  {
   "cell_type": "code",
   "execution_count": 14,
   "metadata": {},
   "outputs": [],
   "source": [
    "pool_infos = [ PoolInfo.from_address(i, NET) for i in lptokens ]\n",
    "pool_infos = await asyncio.gather(*pool_infos)"
   ]
  },
  {
   "cell_type": "code",
   "execution_count": 16,
   "metadata": {},
   "outputs": [
    {
     "name": "stdout",
     "output_type": "stream",
     "text": [
      "TVL of ETH/USDC  Call pool:      19.02  ETH\n",
      "TVL of ETH/USDC  Put pool:    53151.81 USDC\n",
      "TVL of WBTC/USDC Call pool:       0.02 WBTC\n",
      "TVL of WBTC/USDC Put pool:    16913.38 USDC\n",
      "TVL of ETH/STRK  Call pool:       3.43  ETH\n",
      "TVL of ETH/STRK  Put pool:    88859.89 STRK\n",
      "TVL of STRK/USDC Call pool:  223789.39 STRK\n",
      "TVL of STRK/USDC Put pool:    73670.63 USDC\n"
     ]
    }
   ],
   "source": [
    "for pool in pool_infos:\n",
    "    # Fetch unlocked and value of position\n",
    "    unlocked = await function_call(NET, AMM_ADDRESS, 'get_unlocked_capital', [pool.address])\n",
    "\n",
    "    value_of_position = await function_call(NET, AMM_ADDRESS, 'get_value_of_pool_position', [pool.address])\n",
    "    value_of_position = value_of_position[0] / CUBIT_SHIFT \n",
    "\n",
    "    base_token = await Token.from_address(pool.base_token_address, NET)\n",
    "    quote_token = await Token.from_address(pool.quote_token_address, NET)\n",
    "\n",
    "    if pool.option_type == 0: # Call options\n",
    "        type_str = 'Call'\n",
    "        capital_token = base_token.symbol\n",
    "\n",
    "        pool_tvl = (unlocked[0] / 10**base_token.decimals) + value_of_position \n",
    "    else: # Put\n",
    "        type_str = 'Put'\n",
    "        capital_token = quote_token.symbol\n",
    "\n",
    "        pool_tvl = (unlocked[0] / 10**quote_token.decimals) + value_of_position \n",
    "\n",
    "\n",
    "    print(\n",
    "        '{:<17}'.format(f'TVL of {base_token.symbol}/{quote_token.symbol} ')\n",
    "        + '{:<12}'.format(f'{type_str} pool: ')\n",
    "        + '{:>9}'.format(str(float('%0.2f' % pool_tvl)))\n",
    "        + f' {capital_token: >4}'\n",
    "    )\n",
    "    "
   ]
  },
  {
   "cell_type": "markdown",
   "metadata": {},
   "source": [
    "### Interacting with Starknet\n",
    "- Call vs. Invoke\n",
    "- Call reads data (or dry-runs some function), invoke changes state"
   ]
  },
  {
   "cell_type": "code",
   "execution_count": 146,
   "metadata": {},
   "outputs": [],
   "source": [
    "# Pragma docs:\n",
    "# https://docs.pragmaoracle.com/Resources/Cairo%201/data-feeds/consuming-data\n",
    "\n",
    "# Oracle Address\n",
    "PRAGMA_ADDRESS = 0x2a85bd616f912537c50a49a4076db02c00b29b2cdc8a197ce92ed1837fa875b\n",
    "\n",
    "# Keys representing assets\n",
    "BTC_USD_KEY = 18669995996566340\n",
    "SOL_USD_KEY = 23449611697214276\n",
    "ETH_USD_KEY = 19514442401534788"
   ]
  },
  {
   "cell_type": "code",
   "execution_count": 25,
   "metadata": {},
   "outputs": [],
   "source": [
    "# Enums used by Pragma\n",
    "\n",
    "# enum DataType {\n",
    "#     SpotEntry: felt252,\n",
    "#     FutureEntry: (felt252, u64),\n",
    "#     GenericEntry: felt252,\n",
    "# }\n",
    "\n",
    "# enum AggregationMode {\n",
    "#     Median: (),\n",
    "#     Mean: (),\n",
    "#     Error: (),\n",
    "# }\n",
    "\n",
    "# Note on using enums on starknet in client: \n",
    "#   To pass enum via client, you have to pass the index of enum member\n",
    "#       ie -> we want to pass DataType::SpotEntry(BTC_KEY) -> we would pass [0, BTC_KEY] (SpotEntry is first member in DataType Enum)\n",
    "#   Works slightly differently when calling/invoking via Contract instance, explained down the road"
   ]
  },
  {
   "cell_type": "code",
   "execution_count": 147,
   "metadata": {},
   "outputs": [],
   "source": [
    "@dataclass\n",
    "class PragmaPrice:\n",
    "    \"\"\"\n",
    "    Dataclass representing Pragma price info entry.\n",
    "    \"\"\"\n",
    "    price: int\n",
    "    decimals: int\n",
    "    last_updated_timestamp: int\n",
    "    num_sources_aggregated: int\n",
    "\n",
    "async def get_pragma_median_price(client: FullNodeClient, oracle_address: int, asset: int) -> PragmaPrice:\n",
    "    \"\"\"\n",
    "    Fetches median price from Pragma oracle.\n",
    "\n",
    "    Parameters:\n",
    "    - client: FullNodeClient instance\n",
    "    - oracle_address: Pragma oracle contract address\n",
    "    - asset: Asset key (ie 23449611697214276 for SOL_USD)\n",
    "\n",
    "    Returns:\n",
    "    - PragmaPrice -> struct containig price info from Pragma oracle\n",
    "    \"\"\"\n",
    "    \n",
    "    call_data = [\n",
    "        0, # SpotEntry DataType member\n",
    "        asset, # Key of asset\n",
    "        0, # Aggregation mode, in this case Median \n",
    "    ]\n",
    "    res = await function_call(client, oracle_address, 'get_data', call_data)\n",
    "    return PragmaPrice(\n",
    "        price = res[0], \n",
    "        decimals = res[1],\n",
    "        last_updated_timestamp=res[2],\n",
    "        num_sources_aggregated= res[3],\n",
    "    )"
   ]
  },
  {
   "cell_type": "code",
   "execution_count": 151,
   "metadata": {},
   "outputs": [],
   "source": [
    "@dataclass\n",
    "class PragmaCheckpoint:\n",
    "    \"\"\"\n",
    "    Dataclass representing Pragma checkpoint entry.\n",
    "    \"\"\"\n",
    "    timestamp: int\n",
    "    value: int # Always with 8 decimals (value / 10**8 to get human readable price)\n",
    "    aggregation_mode: int\n",
    "    num_sources_aggregated: int\n",
    "    index: int\n",
    "\n",
    "async def get_pragma_checkpoint(client: FullNodeClient, oracle_address: int, timestamp: int, asset: int) -> PragmaCheckpoint:\n",
    "    \"\"\"\n",
    "    Fetches checkpoint from Pragma oracle.\n",
    "\n",
    "    Parameters:\n",
    "    - client: FullNodeClient instance\n",
    "    - oracle_address: Pragma oracle contract address\n",
    "    - timestamp: timestamp before which to get the latest checkpoint\n",
    "    - asset: Asset key (ie 23449611697214276 for SOL_USD)\n",
    "\n",
    "\n",
    "    Returns:\n",
    "    - PragmaCheckpoint -> Struct checkpoint info info from Pragma oracle \n",
    "\n",
    "    Notes: \n",
    "    - For given timestamp, always returns the last checkpoint set before the timestamp.\n",
    "    \"\"\"\n",
    "    call_data = [\n",
    "        0, # DataType Spot\n",
    "        asset,\n",
    "        timestamp,\n",
    "        0, # AggregationMode::Median\n",
    "    ]\n",
    "    \n",
    "    res = await function_call(\n",
    "        client,\n",
    "        oracle_address,\n",
    "        'get_last_checkpoint_before',\n",
    "        call_data\n",
    "    )   \n",
    "    return PragmaCheckpoint(\n",
    "        timestamp= res[0],\n",
    "        value= res[1],\n",
    "        aggregation_mode= res[2],\n",
    "        num_sources_aggregated= res[3],\n",
    "        index = res[-1]\n",
    "    )"
   ]
  },
  {
   "cell_type": "markdown",
   "metadata": {},
   "source": [
    "### Setting checkpoint"
   ]
  },
  {
   "cell_type": "code",
   "execution_count": 47,
   "metadata": {},
   "outputs": [],
   "source": [
    "from starknet_py.contract import Contract\n",
    "from starknet_py.net.signer.stark_curve_signer import KeyPair\n",
    "from starknet_py.net.account.account import Account\n",
    "from starknet_py.net.models.chains import StarknetChainId"
   ]
  },
  {
   "cell_type": "code",
   "execution_count": 149,
   "metadata": {},
   "outputs": [],
   "source": [
    "MAX_FEE = int(1e16)\n",
    "\n",
    "# Load keys\n",
    "MAINNET_PRIVATE_KEY = os.environ['MAINNET_PRIVATE_KEY']\n",
    "MAINNET_PUBLIC_KEY = os.environ['MAINNET_PUBLIC_KEY']\n",
    "MAINNET_WALLET_ADDRESS = os.environ['MAINNET_WALLET_ADDRESS']"
   ]
  },
  {
   "cell_type": "code",
   "execution_count": 52,
   "metadata": {},
   "outputs": [],
   "source": [
    "# Create Account instance containg our wallet info\n",
    "account = Account(\n",
    "    client=NET,\n",
    "    address=MAINNET_WALLET_ADDRESS,\n",
    "    key_pair=KeyPair(\n",
    "        private_key=int(MAINNET_PRIVATE_KEY, 16),\n",
    "        public_key=int(MAINNET_PUBLIC_KEY, 16)\n",
    "    ),\n",
    "    chain=StarknetChainId.MAINNET,\n",
    ")"
   ]
  },
  {
   "cell_type": "code",
   "execution_count": 152,
   "metadata": {},
   "outputs": [],
   "source": [
    "async def set_pragma_checkpoint(account: Account, oracle_address: int, asset: int) -> str:\n",
    "    \"\"\"\n",
    "    Sets onchain pragma checkpoint for given asset.\n",
    "\n",
    "    Parameters:\n",
    "    - account: Account instance that contains address, keys etc.\n",
    "    - oracle_address: Pragma oracle address\n",
    "    - asset: Pragma asset key\n",
    "\n",
    "    Returns: \n",
    "    - tx_hash: string of transaction hash\n",
    "    \"\"\"\n",
    "    \n",
    "    \n",
    "    # Create Starknet contract instance (will fetch list of functions from chain)\n",
    "    contract = await Contract.from_address(\n",
    "        address=oracle_address,\n",
    "        provider=account\n",
    "    )\n",
    "    # Prepare Invoke data\n",
    "    invoke_data = [\n",
    "        # Here we're working with parsed abi so instead of using order of member we just write it as a string\n",
    "        # list of possible member can ve found with 'contract.data.parsed_abi'\n",
    "        # This argument is DataType\n",
    "        ['SpotEntry', asset], \n",
    "        \n",
    "        # Here the argument is AggregationMode which doesn't contain any value, so we have to pass None as a second arg\n",
    "        ['Median', None]\n",
    "    ]\n",
    "\n",
    "    invoke = contract.functions['set_checkpoint'].prepare_invoke_v1(*invoke_data)\n",
    "\n",
    "    # Execute invoke\n",
    "    resp = await account.execute_v1(calls = invoke, max_fee=MAX_FEE)\n",
    "\n",
    "    # return tx hash\n",
    "    return hex(resp.transaction_hash)"
   ]
  },
  {
   "cell_type": "code",
   "execution_count": 131,
   "metadata": {},
   "outputs": [],
   "source": [
    "now = int(time.time())"
   ]
  },
  {
   "cell_type": "code",
   "execution_count": 160,
   "metadata": {},
   "outputs": [
    {
     "name": "stdout",
     "output_type": "stream",
     "text": [
      "Checkpoint timestamp:\n",
      "1715073911 -> 2024-05-07 11:25:11\n",
      "Checkpoint index: 105\n"
     ]
    }
   ],
   "source": [
    "checkpoint_1 = await get_pragma_checkpoint(\n",
    "    NET, PRAGMA_ADDRESS, now, ETH_USD_KEY\n",
    ")\n",
    "print('Checkpoint timestamp:')\n",
    "print(f\"{checkpoint_1.timestamp} -> {datetime.datetime.fromtimestamp(checkpoint_1.timestamp)}\")\n",
    "print(f'Checkpoint index: {checkpoint_1.index}')"
   ]
  },
  {
   "cell_type": "code",
   "execution_count": 154,
   "metadata": {},
   "outputs": [],
   "source": [
    "invoke_tx_hash = await set_pragma_checkpoint(\n",
    "    account,\n",
    "    PRAGMA_ADDRESS,\n",
    "    ETH_USD_KEY\n",
    ")"
   ]
  },
  {
   "cell_type": "code",
   "execution_count": 157,
   "metadata": {},
   "outputs": [
    {
     "name": "stdout",
     "output_type": "stream",
     "text": [
      "Tx Hash:  0x7c76c9bc4578e9cfeedfd753cd1b32f7d323aef4716a487f0174d0a8a4eb904\n",
      "Tx Hash link: https://starkscan.co/tx/0x7c76c9bc4578e9cfeedfd753cd1b32f7d323aef4716a487f0174d0a8a4eb904\n"
     ]
    }
   ],
   "source": [
    "print('Tx Hash: ', invoke_tx_hash)\n",
    "print(f'Tx Hash link: https://starkscan.co/tx/{invoke_tx_hash}')"
   ]
  },
  {
   "cell_type": "code",
   "execution_count": 159,
   "metadata": {},
   "outputs": [
    {
     "name": "stdout",
     "output_type": "stream",
     "text": [
      "Checkpoint timestamp:\n",
      "1715073911 -> 2024-05-07 11:25:11\n",
      "Checkpoint index: 105\n"
     ]
    }
   ],
   "source": [
    "checkpoint_2 = await get_pragma_checkpoint(\n",
    "    NET, PRAGMA_ADDRESS, now, ETH_USD_KEY\n",
    ")\n",
    "\n",
    "print('Checkpoint timestamp:')\n",
    "print(f\"{checkpoint_2.timestamp} -> {datetime.datetime.fromtimestamp(checkpoint_2.timestamp)}\")\n",
    "print(f'Checkpoint index: {checkpoint_2.index}')"
   ]
  }
 ],
 "metadata": {
  "kernelspec": {
   "display_name": "Python 3 (ipykernel)",
   "language": "python",
   "name": "python3"
  },
  "language_info": {
   "codemirror_mode": {
    "name": "ipython",
    "version": 3
   },
   "file_extension": ".py",
   "mimetype": "text/x-python",
   "name": "python",
   "nbconvert_exporter": "python",
   "pygments_lexer": "ipython3",
   "version": "3.10.14"
  }
 },
 "nbformat": 4,
 "nbformat_minor": 4
}

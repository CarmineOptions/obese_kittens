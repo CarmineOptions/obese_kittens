{
 "cells": [
  {
   "cell_type": "markdown",
   "metadata": {},
   "source": [
    "# Seminar - Example of getting chain data\n",
    "Getting current state of Carmine Options AMM from StarkNet."
   ]
  },
  {
   "cell_type": "code",
   "execution_count": null,
   "metadata": {},
   "outputs": [],
   "source": [
    "from dataclasses import dataclass\n",
    "import asyncio\n",
    "\n",
    "from starknet_py.net.full_node_client import FullNodeClient\n",
    "from starknet_py.hash.selector import get_selector_from_name\n",
    "from starknet_py.net.client_models import Call"
   ]
  },
  {
   "cell_type": "code",
   "execution_count": null,
   "metadata": {},
   "outputs": [],
   "source": [
    "AMM_ADDRESS = 0x047472e6755afc57ada9550b6a3ac93129cc4b5f98f51c73e0644d129fd208d9 # Carmine Options Amm address\n",
    "\n",
    "CUBIT_SHIFT = 2**64\n",
    "\n",
    "# RPC setup\n",
    "RPC_URL = 'https://starknet-mainnet.public.blastapi.io'\n",
    "NET = FullNodeClient(RPC_URL)"
   ]
  },
  {
   "cell_type": "code",
   "execution_count": null,
   "metadata": {},
   "outputs": [],
   "source": [
    "def felt_to_str(felt) -> str:\n",
    "    \"\"\"\n",
    "    Helper function that takes felt and creates string out of it.\n",
    "    \"\"\"\n",
    "    num_bytes = (felt.bit_length() + 7) // 8\n",
    "    bytes_ = felt.to_bytes(num_bytes, \"big\")\n",
    "    return bytes_.decode(\"utf-8\")"
   ]
  },
  {
   "cell_type": "code",
   "execution_count": null,
   "metadata": {},
   "outputs": [],
   "source": [
    "async def function_call(client: FullNodeClient, address: int, selector: str, calldata: list[int | None]) -> list[int]:\n",
    "    \"\"\"\n",
    "    Wrapper for StarkNet chain calls. -> gets chain data\n",
    "    \"\"\"\n",
    "    call = Call(\n",
    "        to_addr=address,\n",
    "        selector=get_selector_from_name(selector),\n",
    "        calldata=calldata\n",
    "    )\n",
    "    res = await client.call_contract(call)\n",
    "    return res\n",
    "\n",
    "async def function_call_from_block(client: FullNodeClient, address: int, selector: str, calldata: list[int], block_num: int) -> list[int]:\n",
    "    \"\"\"\n",
    "    Wrapper for StarkNet chain calls for HISTORICAL data. -> gets HISTORICAL chain data\n",
    "    \"\"\"\n",
    "    call = Call(\n",
    "        to_addr=address,\n",
    "        selector=get_selector_from_name(selector),\n",
    "        calldata=calldata\n",
    "    )\n",
    "    res = await client.call_contract(call, block_number=block_num)\n",
    "    return res"
   ]
  },
  {
   "cell_type": "code",
   "execution_count": null,
   "metadata": {},
   "outputs": [],
   "source": [
    "# Fetch list of lptokens\n",
    "lptokens = await function_call(NET, AMM_ADDRESS, 'get_all_lptoken_addresses', [])\n",
    "lptokens = lptokens[1:] # First element is length of the array "
   ]
  },
  {
   "cell_type": "code",
   "execution_count": null,
   "metadata": {},
   "outputs": [],
   "source": [
    "@dataclass\n",
    "class Token:\n",
    "    \"\"\"\n",
    "    Class representing single Starknet token.\n",
    "    \"\"\"\n",
    "    decimals: int\n",
    "    symbol: str\n",
    "    address: int\n",
    "\n",
    "    @classmethod\n",
    "    async def from_address(cls, address: int, client: FullNodeClient) -> 'Token':\n",
    "        decimals = await function_call(client, address, 'decimals', [])\n",
    "        symbol = await function_call(client, address, 'symbol', [])\n",
    "\n",
    "        return Token(\n",
    "            decimals=decimals[0],\n",
    "            symbol= felt_to_str(symbol[0]),\n",
    "            address = address\n",
    "        )\n",
    "\n",
    "    def __repr__(self) -> str:\n",
    "        return f\"\"\"Token(\n",
    "    decimals={self.decimals},\n",
    "    symbol={self.symbol},\n",
    "    address={hex(self.address)}\n",
    ")\"\"\"\n",
    "\n",
    "\n",
    "@dataclass\n",
    "class PoolInfo:\n",
    "    \"\"\"\n",
    "    Class representing Carmine Options AMM pool info.\n",
    "\n",
    "    Footnote: ETH/USDC, ETH is the base token and USDC is the quote token.\n",
    "    \"\"\"\n",
    "    quote_token_address: int\n",
    "    base_token_address: int\n",
    "    option_type: int\n",
    "    address: int\n",
    "\n",
    "    @classmethod\n",
    "    async def from_address(cls, address: int, client: FullNodeClient) -> 'PoolInfo':\n",
    "        \"\"\"\n",
    "        Constructs Pool info from the address of the lptoken.\n",
    "        \"\"\"\n",
    "        res = await function_call(\n",
    "            client,\n",
    "            AMM_ADDRESS, \n",
    "            'get_pool_definition_from_lptoken_address', [address]\n",
    "        )\n",
    "        return PoolInfo(\n",
    "            quote_token_address=res[0],\n",
    "            base_token_address=res[1],\n",
    "            option_type=res[2],\n",
    "            address=address\n",
    "        )\n",
    "\n",
    "    def __repr__(self) -> str:\n",
    "        return f\"\"\"PoolInfo(\n",
    "    quote_token_address={hex(self.quote_token_address)},\n",
    "    base_token_address={hex(self.base_token_address)},\n",
    "    option_type={self.option_type},\n",
    "    address={hex(self.address)}\n",
    ")\"\"\"\n",
    "\n",
    "    "
   ]
  },
  {
   "cell_type": "code",
   "execution_count": null,
   "metadata": {},
   "outputs": [],
   "source": [
    "tokens = [ Token.from_address(i, NET) for i in lptokens ]\n",
    "tokens = await asyncio.gather(*tokens)"
   ]
  },
  {
   "cell_type": "code",
   "execution_count": null,
   "metadata": {
    "scrolled": true
   },
   "outputs": [],
   "source": [
    "tokens"
   ]
  },
  {
   "cell_type": "code",
   "execution_count": null,
   "metadata": {},
   "outputs": [],
   "source": [
    "pool_infos = [ PoolInfo.from_address(i, NET) for i in lptokens ]\n",
    "pool_infos = await asyncio.gather(*pool_infos)"
   ]
  },
  {
   "cell_type": "code",
   "execution_count": null,
   "metadata": {
    "scrolled": true
   },
   "outputs": [],
   "source": [
    "pool_infos"
   ]
  },
  {
   "cell_type": "code",
   "execution_count": null,
   "metadata": {},
   "outputs": [],
   "source": [
    "for pool in pool_infos:\n",
    "    # Fetch unlocked and value of position\n",
    "    unlocked = await function_call(NET, AMM_ADDRESS, 'get_unlocked_capital', [pool.address])\n",
    "\n",
    "    value_of_position = await function_call(NET, AMM_ADDRESS, 'get_value_of_pool_position', [pool.address])\n",
    "    value_of_position = value_of_position[0] / CUBIT_SHIFT \n",
    "\n",
    "    base_token = await Token.from_address(pool.base_token_address, NET)\n",
    "    quote_token = await Token.from_address(pool.quote_token_address, NET)\n",
    "\n",
    "    if pool.option_type == 0: # Call options\n",
    "        type_str = 'Call'\n",
    "        capital_token = base_token.symbol\n",
    "\n",
    "        pool_tvl = (unlocked[0] / 10**base_token.decimals) + value_of_position \n",
    "    else: # Put\n",
    "        type_str = 'Put'\n",
    "        capital_token = quote_token.symbol\n",
    "\n",
    "        pool_tvl = (unlocked[0] / 10**quote_token.decimals) + value_of_position \n",
    "\n",
    "\n",
    "    print(\n",
    "        '{:<17}'.format(f'TVL of {base_token.symbol}/{quote_token.symbol} ')\n",
    "        + '{:<12}'.format(f'{type_str} pool: ')\n",
    "        + '{:>9}'.format(str(float('%0.2f' % pool_tvl)))\n",
    "        + f' {capital_token: >4}'\n",
    "    )\n",
    "    "
   ]
  }
 ],
 "metadata": {
  "kernelspec": {
   "display_name": "Python 3 (ipykernel)",
   "language": "python",
   "name": "python3"
  },
  "language_info": {
   "codemirror_mode": {
    "name": "ipython",
    "version": 3
   },
   "file_extension": ".py",
   "mimetype": "text/x-python",
   "name": "python",
   "nbconvert_exporter": "python",
   "pygments_lexer": "ipython3",
   "version": "3.12.3"
  }
 },
 "nbformat": 4,
 "nbformat_minor": 4
}

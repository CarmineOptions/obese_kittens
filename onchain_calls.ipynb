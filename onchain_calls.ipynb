{
 "cells": [
  {
   "cell_type": "code",
   "execution_count": 40,
   "metadata": {},
   "outputs": [],
   "source": [
    "from dataclasses import dataclass\n",
    "import asyncio\n",
    "\n",
    "from starknet_py.net.full_node_client import FullNodeClient\n",
    "from starknet_py.hash.selector import get_selector_from_name\n",
    "from starknet_py.net.client_models import Call"
   ]
  },
  {
   "cell_type": "code",
   "execution_count": 14,
   "metadata": {},
   "outputs": [],
   "source": [
    "AMM_ADDRESS = 0x047472e6755afc57ada9550b6a3ac93129cc4b5f98f51c73e0644d129fd208d9 # Carmine Options Amm address\n",
    "\n",
    "# RPC setup\n",
    "RPC_URL = 'https://starknet-mainnet.public.blastapi.io'\n",
    "NET = FullNodeClient(RPC_URL)"
   ]
  },
  {
   "cell_type": "code",
   "execution_count": 51,
   "metadata": {},
   "outputs": [],
   "source": [
    "def felt_to_str(felt):\n",
    "    num_bytes = (felt.bit_length() + 7) // 8\n",
    "    bytes_ = felt.to_bytes(num_bytes, \"big\")\n",
    "    return bytes_.decode(\"utf-8\")"
   ]
  },
  {
   "cell_type": "code",
   "execution_count": 18,
   "metadata": {},
   "outputs": [],
   "source": [
    "async def function_call(address: int, selector: str, calldata: list[int | None]) -> list[int]:\n",
    "    call = Call(\n",
    "        to_addr=address,\n",
    "        selector=get_selector_from_name(selector),\n",
    "        calldata=calldata\n",
    "    )\n",
    "    res = await NET.call_contract(call)\n",
    "    return res\n",
    "\n",
    "async def function_call_from_block(address: int, selector: str, calldata: list[int], block_num: int) -> list[int]:\n",
    "    call = Call(\n",
    "        to_addr=address,\n",
    "        selector=get_selector_from_name(selector),\n",
    "        calldata=calldata\n",
    "    )\n",
    "    res = await NET.call_contract(call, block_number=block_num)\n",
    "    return res"
   ]
  },
  {
   "cell_type": "code",
   "execution_count": 25,
   "metadata": {},
   "outputs": [],
   "source": [
    "# Fetch list of lptokens\n",
    "lptokens = await function_call(AMM_ADDRESS, 'get_all_lptoken_addresses', [])\n",
    "lptokens = lptokens[1:] # First element is length of the array "
   ]
  },
  {
   "cell_type": "code",
   "execution_count": 62,
   "metadata": {},
   "outputs": [],
   "source": [
    "@dataclass\n",
    "class Token:\n",
    "    \"\"\"\n",
    "    Class representing single Starknet token.\n",
    "    \"\"\"\n",
    "    \n",
    "    decimals: int\n",
    "    symbol: str\n",
    "    address: int\n",
    "\n",
    "    @classmethod\n",
    "    async def from_address(cls, address: int) -> 'Token':\n",
    "        decimals = await function_call(address, 'decimals', [])\n",
    "        symbol = await function_call(address, 'symbol', [])\n",
    "\n",
    "        return Token(\n",
    "            decimals=decimals[0],\n",
    "            symbol= felt_to_str(symbol[0]),\n",
    "            address = address\n",
    "        )\n",
    "\n",
    "\n",
    "@dataclass\n",
    "class PoolInfo:\n",
    "    \"\"\"\n",
    "    Class representing Carmine Options AMM pool info.\n",
    "    \"\"\"\n",
    "    quote_token_address: int\n",
    "    base_token_address: int\n",
    "    option_type: int\n",
    "    address: int\n",
    "\n",
    "    @classmethod\n",
    "    async def from_address(cls, address: int) -> 'PoolInfo':\n",
    "        \"\"\"\n",
    "        Constructs Pool info from the address of the lptoken.\n",
    "        \"\"\"\n",
    "        res = await function_call(\n",
    "            AMM_ADDRESS, \n",
    "            'get_pool_definition_from_lptoken_address', [address]\n",
    "        )\n",
    "        return PoolInfo(\n",
    "            quote_token_address=res[0],\n",
    "            base_token_address=res[1],\n",
    "            option_type=res[2],\n",
    "            address=address\n",
    "        )\n",
    "    "
   ]
  },
  {
   "cell_type": "code",
   "execution_count": 63,
   "metadata": {},
   "outputs": [],
   "source": [
    "pool_infos = [ PoolInfo.from_address(i) for i in lptokens ]\n",
    "pool_infos = await asyncio.gather(*pool_infos)"
   ]
  },
  {
   "cell_type": "code",
   "execution_count": 64,
   "metadata": {},
   "outputs": [
    {
     "data": {
      "text/plain": [
       "[PoolInfo(quote_token_address=2368576823837625528275935341135881659748932889268308403712618244410713532584, base_token_address=2087021424722619777119509474943472645767659996348769578120564519014510906823, option_type=0, address=3188589015573695152709924369945883242091047925178524437070103516325412109404),\n",
       " PoolInfo(quote_token_address=2368576823837625528275935341135881659748932889268308403712618244410713532584, base_token_address=2087021424722619777119509474943472645767659996348769578120564519014510906823, option_type=1, address=1991040978832064286557357805465536070417175868071594335617512007012013076825),\n",
       " PoolInfo(quote_token_address=2368576823837625528275935341135881659748932889268308403712618244410713532584, base_token_address=1806018566677800621296032626439935115720767031724401394291089442012247156652, option_type=0, address=1522519488290211190981877881039507445699769297762330502060609080954142963419),\n",
       " PoolInfo(quote_token_address=2368576823837625528275935341135881659748932889268308403712618244410713532584, base_token_address=1806018566677800621296032626439935115720767031724401394291089442012247156652, option_type=1, address=790051272059706613974801679250806684240127391732157567346848686223799928140),\n",
       " PoolInfo(quote_token_address=2009894490435840142178314390393166646092438090257831307886760648929397478285, base_token_address=2087021424722619777119509474943472645767659996348769578120564519014510906823, option_type=0, address=3108593880494907406694758369639649505949392182667803730045599575948539988394),\n",
       " PoolInfo(quote_token_address=2009894490435840142178314390393166646092438090257831307886760648929397478285, base_token_address=2087021424722619777119509474943472645767659996348769578120564519014510906823, option_type=1, address=2199458100296739523970401718223227015350343027285491056916831347508069807340),\n",
       " PoolInfo(quote_token_address=2368576823837625528275935341135881659748932889268308403712618244410713532584, base_token_address=2009894490435840142178314390393166646092438090257831307886760648929397478285, option_type=0, address=1226475064781093776553192470921319240793312245635671020376491056440202521373),\n",
       " PoolInfo(quote_token_address=2368576823837625528275935341135881659748932889268308403712618244410713532584, base_token_address=2009894490435840142178314390393166646092438090257831307886760648929397478285, option_type=1, address=3130755315872459023063142357645652201391676843876470191570396695237260620399)]"
      ]
     },
     "execution_count": 64,
     "metadata": {},
     "output_type": "execute_result"
    }
   ],
   "source": [
    "pool_infos"
   ]
  },
  {
   "cell_type": "code",
   "execution_count": 75,
   "metadata": {},
   "outputs": [
    {
     "name": "stdout",
     "output_type": "stream",
     "text": [
      "Tvl of ETHUSDC Call pool: 18.958805144076358 ETH\n",
      "Tvl of ETHUSDC Put pool: 53014.5649812814 USDC\n",
      "Tvl of WBTCUSDC Call pool: 0.01933811 WBTC\n",
      "Tvl of WBTCUSDC Put pool: 16922.259529858664 USDC\n",
      "Tvl of ETHSTRK Call pool: 2.8978208306499327 ETH\n",
      "Tvl of ETHSTRK Put pool: 88632.20888050368 STRK\n",
      "Tvl of STRKUSDC Call pool: 229976.3073524318 STRK\n",
      "Tvl of STRKUSDC Put pool: 73726.87115775663 USDC\n"
     ]
    }
   ],
   "source": [
    "CUBIT_SHIFT = 2**64\n",
    "\n",
    "for pool in pool_infos:\n",
    "    # Fetch unlocked and value of position\n",
    "    unlocked = await function_call(AMM_ADDRESS, 'get_unlocked_capital', [pool.address])\n",
    "\n",
    "    value_of_position = await function_call(AMM_ADDRESS, 'get_value_of_pool_position', [pool.address])\n",
    "    value_of_position = value_of_position[0] / CUBIT_SHIFT \n",
    "\n",
    "    base_token = await Token.from_address(pool.base_token_address)\n",
    "    quote_token = await Token.from_address(pool.quote_token_address)\n",
    "\n",
    "    if pool.option_type == 0: # Call options\n",
    "        type_str = 'Call'\n",
    "        capital_token = base_token.symbol\n",
    "\n",
    "        pool_tvl = (unlocked[0] / 10**base_token.decimals) + value_of_position \n",
    "    else: # Put\n",
    "        type_str = 'Put'\n",
    "        capital_token = quote_token.symbol\n",
    "\n",
    "        pool_tvl = (unlocked[0] / 10**quote_token.decimals) + value_of_position \n",
    "\n",
    "\n",
    "    print(f'Tvl of {base_token.symbol}{quote_token.symbol} {type_str} pool: {pool_tvl} {capital_token}')\n",
    "    "
   ]
  }
 ],
 "metadata": {
  "kernelspec": {
   "display_name": "marek_venv",
   "language": "python",
   "name": "python3"
  },
  "language_info": {
   "codemirror_mode": {
    "name": "ipython",
    "version": 3
   },
   "file_extension": ".py",
   "mimetype": "text/x-python",
   "name": "python",
   "nbconvert_exporter": "python",
   "pygments_lexer": "ipython3",
   "version": "3.10.14"
  }
 },
 "nbformat": 4,
 "nbformat_minor": 2
}
